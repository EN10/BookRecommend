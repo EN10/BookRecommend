{
  "nbformat": 4,
  "nbformat_minor": 0,
  "metadata": {
    "colab": {
      "name": "Books.ipynb",
      "provenance": [],
      "machine_shape": "hm"
    },
    "kernelspec": {
      "name": "python3",
      "display_name": "Python 3"
    },
    "accelerator": "GPU"
  },
  "cells": [
    {
      "cell_type": "markdown",
      "metadata": {
        "id": "KAG4IxjEaoM1",
        "colab_type": "text"
      },
      "source": [
        "Movie Example: https://stackabuse.com/creating-a-simple-recommender-system-in-python-using-pandas\n",
        "\n",
        "Dataset: https://github.com/zygmuntz/goodbooks-10k\n",
        "goodreads API: https://www.goodreads.com/api"
      ]
    },
    {
      "cell_type": "code",
      "metadata": {
        "id": "jjMTReOFWOc_",
        "colab_type": "code",
        "colab": {
          "base_uri": "https://localhost:8080/",
          "height": 204
        },
        "outputId": "4def32ae-648c-4117-8615-2f066458fb73"
      },
      "source": [
        "import pandas as pd\n",
        "\n",
        "ratings_data = pd.read_csv(\"https://github.com/zygmuntz/goodbooks-10k/raw/master/ratings.csv\")\n",
        "books_data = pd.read_csv(\"https://github.com/zygmuntz/goodbooks-10k/raw/master/books.csv\")\n",
        "book_ratings = pd.merge(ratings_data, books_data[['book_id','original_title']], on='book_id')\n",
        "\n",
        "#books_data.head()\n",
        "book_ratings.head()\n",
        "#book_ratings[book_ratings.book_id == 1]\n",
        "#book_ratings[book_ratings.original_title == 'The Hunger Games']"
      ],
      "execution_count": 1,
      "outputs": [
        {
          "output_type": "execute_result",
          "data": {
            "text/html": [
              "<div>\n",
              "<style scoped>\n",
              "    .dataframe tbody tr th:only-of-type {\n",
              "        vertical-align: middle;\n",
              "    }\n",
              "\n",
              "    .dataframe tbody tr th {\n",
              "        vertical-align: top;\n",
              "    }\n",
              "\n",
              "    .dataframe thead th {\n",
              "        text-align: right;\n",
              "    }\n",
              "</style>\n",
              "<table border=\"1\" class=\"dataframe\">\n",
              "  <thead>\n",
              "    <tr style=\"text-align: right;\">\n",
              "      <th></th>\n",
              "      <th>user_id</th>\n",
              "      <th>book_id</th>\n",
              "      <th>rating</th>\n",
              "      <th>original_title</th>\n",
              "    </tr>\n",
              "  </thead>\n",
              "  <tbody>\n",
              "    <tr>\n",
              "      <th>0</th>\n",
              "      <td>1</td>\n",
              "      <td>258</td>\n",
              "      <td>5</td>\n",
              "      <td>La sombra del viento</td>\n",
              "    </tr>\n",
              "    <tr>\n",
              "      <th>1</th>\n",
              "      <td>11</td>\n",
              "      <td>258</td>\n",
              "      <td>3</td>\n",
              "      <td>La sombra del viento</td>\n",
              "    </tr>\n",
              "    <tr>\n",
              "      <th>2</th>\n",
              "      <td>143</td>\n",
              "      <td>258</td>\n",
              "      <td>4</td>\n",
              "      <td>La sombra del viento</td>\n",
              "    </tr>\n",
              "    <tr>\n",
              "      <th>3</th>\n",
              "      <td>242</td>\n",
              "      <td>258</td>\n",
              "      <td>5</td>\n",
              "      <td>La sombra del viento</td>\n",
              "    </tr>\n",
              "    <tr>\n",
              "      <th>4</th>\n",
              "      <td>325</td>\n",
              "      <td>258</td>\n",
              "      <td>4</td>\n",
              "      <td>La sombra del viento</td>\n",
              "    </tr>\n",
              "  </tbody>\n",
              "</table>\n",
              "</div>"
            ],
            "text/plain": [
              "   user_id  book_id  rating        original_title\n",
              "0        1      258       5  La sombra del viento\n",
              "1       11      258       3  La sombra del viento\n",
              "2      143      258       4  La sombra del viento\n",
              "3      242      258       5  La sombra del viento\n",
              "4      325      258       4  La sombra del viento"
            ]
          },
          "metadata": {
            "tags": []
          },
          "execution_count": 1
        }
      ]
    },
    {
      "cell_type": "code",
      "metadata": {
        "id": "vDvqypw0dCde",
        "colab_type": "code",
        "colab": {
          "base_uri": "https://localhost:8080/",
          "height": 235
        },
        "outputId": "dbee2efe-a8c2-4210-aca6-cf12ed849b1b"
      },
      "source": [
        "ratings_mean_count = pd.DataFrame(book_ratings.groupby('original_title')['rating'].mean())\n",
        "ratings_mean_count['rating_counts'] = pd.DataFrame(book_ratings.groupby('original_title')['rating'].count())\n",
        "user_book_rating = book_ratings.pivot_table(index='user_id', columns=['original_title'], values='rating')\n",
        "\n",
        "ratings_mean_count.head()\n",
        "#user_book_rating.head()"
      ],
      "execution_count": 2,
      "outputs": [
        {
          "output_type": "execute_result",
          "data": {
            "text/html": [
              "<div>\n",
              "<style scoped>\n",
              "    .dataframe tbody tr th:only-of-type {\n",
              "        vertical-align: middle;\n",
              "    }\n",
              "\n",
              "    .dataframe tbody tr th {\n",
              "        vertical-align: top;\n",
              "    }\n",
              "\n",
              "    .dataframe thead th {\n",
              "        text-align: right;\n",
              "    }\n",
              "</style>\n",
              "<table border=\"1\" class=\"dataframe\">\n",
              "  <thead>\n",
              "    <tr style=\"text-align: right;\">\n",
              "      <th></th>\n",
              "      <th>rating</th>\n",
              "      <th>rating_counts</th>\n",
              "    </tr>\n",
              "    <tr>\n",
              "      <th>original_title</th>\n",
              "      <th></th>\n",
              "      <th></th>\n",
              "    </tr>\n",
              "  </thead>\n",
              "  <tbody>\n",
              "    <tr>\n",
              "      <th></th>\n",
              "      <td>3.964730</td>\n",
              "      <td>964</td>\n",
              "    </tr>\n",
              "    <tr>\n",
              "      <th>A Monster Calls</th>\n",
              "      <td>4.365180</td>\n",
              "      <td>942</td>\n",
              "    </tr>\n",
              "    <tr>\n",
              "      <th>Animal Farm &amp; 1984</th>\n",
              "      <td>4.128205</td>\n",
              "      <td>1404</td>\n",
              "    </tr>\n",
              "    <tr>\n",
              "      <th>Burned (Burned, #1)</th>\n",
              "      <td>4.069697</td>\n",
              "      <td>330</td>\n",
              "    </tr>\n",
              "    <tr>\n",
              "      <th>Call the midwife : a true story of the East End in the 1950s</th>\n",
              "      <td>4.134228</td>\n",
              "      <td>447</td>\n",
              "    </tr>\n",
              "  </tbody>\n",
              "</table>\n",
              "</div>"
            ],
            "text/plain": [
              "                                                      rating  rating_counts\n",
              "original_title                                                             \n",
              "                                                    3.964730            964\n",
              " A Monster Calls                                    4.365180            942\n",
              " Animal Farm & 1984                                 4.128205           1404\n",
              " Burned (Burned, #1)                                4.069697            330\n",
              " Call the midwife : a true story of the East En...  4.134228            447"
            ]
          },
          "metadata": {
            "tags": []
          },
          "execution_count": 2
        }
      ]
    },
    {
      "cell_type": "code",
      "metadata": {
        "colab_type": "code",
        "id": "F2lUjdE3eIPJ",
        "colab": {
          "base_uri": "https://localhost:8080/",
          "height": 136
        },
        "outputId": "568a0753-30c9-40c8-b83b-a560fc7063ef"
      },
      "source": [
        "hunger_games_ratings = user_book_rating['The Hunger Games']\n",
        "books_like_hunger_games = user_book_rating.corrwith(hunger_games_ratings)\n",
        "\n",
        "hunger_games_ratings.head()\n",
        "#books_like_hunger_games.head()"
      ],
      "execution_count": 3,
      "outputs": [
        {
          "output_type": "execute_result",
          "data": {
            "text/plain": [
              "user_id\n",
              "1   NaN\n",
              "2   NaN\n",
              "3   NaN\n",
              "4   NaN\n",
              "5   NaN\n",
              "Name: The Hunger Games, dtype: float64"
            ]
          },
          "metadata": {
            "tags": []
          },
          "execution_count": 3
        }
      ]
    },
    {
      "cell_type": "code",
      "metadata": {
        "id": "jGj0YXG6lB5X",
        "colab_type": "code",
        "outputId": "a1fdb2ad-753a-4db0-8797-24380984a1a1",
        "colab": {
          "base_uri": "https://localhost:8080/",
          "height": 235
        }
      },
      "source": [
        "corr_hunger_games = pd.DataFrame(books_like_hunger_games, columns=['Correlation'])\n",
        "corr_hunger_games.dropna(inplace=True)\n",
        "corr_hunger_games.head()"
      ],
      "execution_count": 4,
      "outputs": [
        {
          "output_type": "execute_result",
          "data": {
            "text/html": [
              "<div>\n",
              "<style scoped>\n",
              "    .dataframe tbody tr th:only-of-type {\n",
              "        vertical-align: middle;\n",
              "    }\n",
              "\n",
              "    .dataframe tbody tr th {\n",
              "        vertical-align: top;\n",
              "    }\n",
              "\n",
              "    .dataframe thead th {\n",
              "        text-align: right;\n",
              "    }\n",
              "</style>\n",
              "<table border=\"1\" class=\"dataframe\">\n",
              "  <thead>\n",
              "    <tr style=\"text-align: right;\">\n",
              "      <th></th>\n",
              "      <th>Correlation</th>\n",
              "    </tr>\n",
              "    <tr>\n",
              "      <th>original_title</th>\n",
              "      <th></th>\n",
              "    </tr>\n",
              "  </thead>\n",
              "  <tbody>\n",
              "    <tr>\n",
              "      <th></th>\n",
              "      <td>0.197635</td>\n",
              "    </tr>\n",
              "    <tr>\n",
              "      <th>A Monster Calls</th>\n",
              "      <td>0.103923</td>\n",
              "    </tr>\n",
              "    <tr>\n",
              "      <th>Animal Farm &amp; 1984</th>\n",
              "      <td>0.036472</td>\n",
              "    </tr>\n",
              "    <tr>\n",
              "      <th>Burned (Burned, #1)</th>\n",
              "      <td>0.195531</td>\n",
              "    </tr>\n",
              "    <tr>\n",
              "      <th>Call the midwife : a true story of the East End in the 1950s</th>\n",
              "      <td>0.115430</td>\n",
              "    </tr>\n",
              "  </tbody>\n",
              "</table>\n",
              "</div>"
            ],
            "text/plain": [
              "                                                    Correlation\n",
              "original_title                                                 \n",
              "                                                       0.197635\n",
              " A Monster Calls                                       0.103923\n",
              " Animal Farm & 1984                                    0.036472\n",
              " Burned (Burned, #1)                                   0.195531\n",
              " Call the midwife : a true story of the East En...     0.115430"
            ]
          },
          "metadata": {
            "tags": []
          },
          "execution_count": 4
        }
      ]
    },
    {
      "cell_type": "code",
      "metadata": {
        "id": "_sZZjjSsT_Lh",
        "colab_type": "code",
        "outputId": "93335154-cbb7-4e71-e8d3-d58115fff44d",
        "colab": {
          "base_uri": "https://localhost:8080/",
          "height": 390
        }
      },
      "source": [
        "corr_hunger_games = corr_hunger_games.merge(ratings_mean_count['rating_counts'], on='original_title')\n",
        "corr_hunger_games[corr_hunger_games['rating_counts']>1000].sort_values('Correlation', ascending=False).head(10)"
      ],
      "execution_count": 5,
      "outputs": [
        {
          "output_type": "execute_result",
          "data": {
            "text/html": [
              "<div>\n",
              "<style scoped>\n",
              "    .dataframe tbody tr th:only-of-type {\n",
              "        vertical-align: middle;\n",
              "    }\n",
              "\n",
              "    .dataframe tbody tr th {\n",
              "        vertical-align: top;\n",
              "    }\n",
              "\n",
              "    .dataframe thead th {\n",
              "        text-align: right;\n",
              "    }\n",
              "</style>\n",
              "<table border=\"1\" class=\"dataframe\">\n",
              "  <thead>\n",
              "    <tr style=\"text-align: right;\">\n",
              "      <th></th>\n",
              "      <th>Correlation</th>\n",
              "      <th>rating_counts</th>\n",
              "    </tr>\n",
              "    <tr>\n",
              "      <th>original_title</th>\n",
              "      <th></th>\n",
              "      <th></th>\n",
              "    </tr>\n",
              "  </thead>\n",
              "  <tbody>\n",
              "    <tr>\n",
              "      <th>The Hunger Games</th>\n",
              "      <td>1.000000</td>\n",
              "      <td>22806</td>\n",
              "    </tr>\n",
              "    <tr>\n",
              "      <th>The Hunger Games Box Set</th>\n",
              "      <td>0.684692</td>\n",
              "      <td>1144</td>\n",
              "    </tr>\n",
              "    <tr>\n",
              "      <th>Catching Fire</th>\n",
              "      <td>0.669657</td>\n",
              "      <td>16549</td>\n",
              "    </tr>\n",
              "    <tr>\n",
              "      <th>Mockingjay</th>\n",
              "      <td>0.533155</td>\n",
              "      <td>15953</td>\n",
              "    </tr>\n",
              "    <tr>\n",
              "      <th>Divergent</th>\n",
              "      <td>0.371507</td>\n",
              "      <td>11780</td>\n",
              "    </tr>\n",
              "    <tr>\n",
              "      <th>Moon Called</th>\n",
              "      <td>0.356674</td>\n",
              "      <td>1170</td>\n",
              "    </tr>\n",
              "    <tr>\n",
              "      <th>Twilight</th>\n",
              "      <td>0.330199</td>\n",
              "      <td>17657</td>\n",
              "    </tr>\n",
              "    <tr>\n",
              "      <th>Song of Susannah</th>\n",
              "      <td>0.318022</td>\n",
              "      <td>1572</td>\n",
              "    </tr>\n",
              "    <tr>\n",
              "      <th>The Amityville Horror</th>\n",
              "      <td>0.309538</td>\n",
              "      <td>1066</td>\n",
              "    </tr>\n",
              "    <tr>\n",
              "      <th>Greg Heffley's Journal</th>\n",
              "      <td>0.304739</td>\n",
              "      <td>1150</td>\n",
              "    </tr>\n",
              "  </tbody>\n",
              "</table>\n",
              "</div>"
            ],
            "text/plain": [
              "                          Correlation  rating_counts\n",
              "original_title                                      \n",
              "The Hunger Games             1.000000          22806\n",
              "The Hunger Games Box Set     0.684692           1144\n",
              "Catching Fire                0.669657          16549\n",
              "Mockingjay                   0.533155          15953\n",
              "Divergent                    0.371507          11780\n",
              "Moon Called                  0.356674           1170\n",
              "Twilight                     0.330199          17657\n",
              "Song of Susannah             0.318022           1572\n",
              "The Amityville Horror        0.309538           1066\n",
              "Greg Heffley's Journal       0.304739           1150"
            ]
          },
          "metadata": {
            "tags": []
          },
          "execution_count": 5
        }
      ]
    }
  ]
}