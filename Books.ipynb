{
  "nbformat": 4,
  "nbformat_minor": 0,
  "metadata": {
    "colab": {
      "name": "Books.ipynb",
      "provenance": [],
      "machine_shape": "hm"
    },
    "kernelspec": {
      "name": "python3",
      "display_name": "Python 3"
    },
    "accelerator": "GPU"
  },
  "cells": [
    {
      "cell_type": "markdown",
      "metadata": {
        "id": "KAG4IxjEaoM1",
        "colab_type": "text"
      },
      "source": [
        "Movie Example: https://stackabuse.com/creating-a-simple-recommender-system-in-python-using-pandas\n",
        "\n",
        "Dataset: https://github.com/zygmuntz/goodbooks-10k\n",
        "goodreads API: https://www.goodreads.com/api"
      ]
    },
    {
      "cell_type": "code",
      "metadata": {
        "id": "jjMTReOFWOc_",
        "colab_type": "code",
        "outputId": "0b80c41b-5a64-470b-bae4-fb4efe516f0b",
        "colab": {
          "base_uri": "https://localhost:8080/",
          "height": 204
        }
      },
      "source": [
        "import pandas as pd\n",
        "\n",
        "ratings_data = pd.read_csv(\"https://github.com/zygmuntz/goodbooks-10k/raw/master/ratings.csv\")\n",
        "books_data = pd.read_csv(\"https://github.com/zygmuntz/goodbooks-10k/raw/master/books.csv\")\n",
        "book_ratings = pd.merge(ratings_data, books_data[['book_id','original_title']], on='book_id')\n",
        "\n",
        "book_ratings.head()"
      ],
      "execution_count": 1,
      "outputs": [
        {
          "output_type": "execute_result",
          "data": {
            "text/html": [
              "<div>\n",
              "<style scoped>\n",
              "    .dataframe tbody tr th:only-of-type {\n",
              "        vertical-align: middle;\n",
              "    }\n",
              "\n",
              "    .dataframe tbody tr th {\n",
              "        vertical-align: top;\n",
              "    }\n",
              "\n",
              "    .dataframe thead th {\n",
              "        text-align: right;\n",
              "    }\n",
              "</style>\n",
              "<table border=\"1\" class=\"dataframe\">\n",
              "  <thead>\n",
              "    <tr style=\"text-align: right;\">\n",
              "      <th></th>\n",
              "      <th>user_id</th>\n",
              "      <th>book_id</th>\n",
              "      <th>rating</th>\n",
              "      <th>original_title</th>\n",
              "    </tr>\n",
              "  </thead>\n",
              "  <tbody>\n",
              "    <tr>\n",
              "      <th>0</th>\n",
              "      <td>1</td>\n",
              "      <td>258</td>\n",
              "      <td>5</td>\n",
              "      <td>La sombra del viento</td>\n",
              "    </tr>\n",
              "    <tr>\n",
              "      <th>1</th>\n",
              "      <td>11</td>\n",
              "      <td>258</td>\n",
              "      <td>3</td>\n",
              "      <td>La sombra del viento</td>\n",
              "    </tr>\n",
              "    <tr>\n",
              "      <th>2</th>\n",
              "      <td>143</td>\n",
              "      <td>258</td>\n",
              "      <td>4</td>\n",
              "      <td>La sombra del viento</td>\n",
              "    </tr>\n",
              "    <tr>\n",
              "      <th>3</th>\n",
              "      <td>242</td>\n",
              "      <td>258</td>\n",
              "      <td>5</td>\n",
              "      <td>La sombra del viento</td>\n",
              "    </tr>\n",
              "    <tr>\n",
              "      <th>4</th>\n",
              "      <td>325</td>\n",
              "      <td>258</td>\n",
              "      <td>4</td>\n",
              "      <td>La sombra del viento</td>\n",
              "    </tr>\n",
              "  </tbody>\n",
              "</table>\n",
              "</div>"
            ],
            "text/plain": [
              "   user_id  book_id  rating        original_title\n",
              "0        1      258       5  La sombra del viento\n",
              "1       11      258       3  La sombra del viento\n",
              "2      143      258       4  La sombra del viento\n",
              "3      242      258       5  La sombra del viento\n",
              "4      325      258       4  La sombra del viento"
            ]
          },
          "metadata": {
            "tags": []
          },
          "execution_count": 1
        }
      ]
    },
    {
      "cell_type": "code",
      "metadata": {
        "id": "vDvqypw0dCde",
        "colab_type": "code",
        "outputId": "2ec4f8dd-126f-4a83-c45a-deff582f8273",
        "colab": {
          "base_uri": "https://localhost:8080/",
          "height": 390
        }
      },
      "source": [
        "ratings_mean_count = pd.DataFrame(book_ratings.groupby('original_title')['rating'].mean())\n",
        "ratings_mean_count['rating_counts'] = pd.DataFrame(book_ratings.groupby('original_title')['rating'].count())\n",
        "top_rated = ratings_mean_count[ratings_mean_count['rating_counts']>1000].sort_values('rating', ascending=False)\n",
        "\n",
        "top_rated.head(10)"
      ],
      "execution_count": 2,
      "outputs": [
        {
          "output_type": "execute_result",
          "data": {
            "text/html": [
              "<div>\n",
              "<style scoped>\n",
              "    .dataframe tbody tr th:only-of-type {\n",
              "        vertical-align: middle;\n",
              "    }\n",
              "\n",
              "    .dataframe tbody tr th {\n",
              "        vertical-align: top;\n",
              "    }\n",
              "\n",
              "    .dataframe thead th {\n",
              "        text-align: right;\n",
              "    }\n",
              "</style>\n",
              "<table border=\"1\" class=\"dataframe\">\n",
              "  <thead>\n",
              "    <tr style=\"text-align: right;\">\n",
              "      <th></th>\n",
              "      <th>rating</th>\n",
              "      <th>rating_counts</th>\n",
              "    </tr>\n",
              "    <tr>\n",
              "      <th>original_title</th>\n",
              "      <th></th>\n",
              "      <th></th>\n",
              "    </tr>\n",
              "  </thead>\n",
              "  <tbody>\n",
              "    <tr>\n",
              "      <th>Words of Radiance</th>\n",
              "      <td>4.702840</td>\n",
              "      <td>1373</td>\n",
              "    </tr>\n",
              "    <tr>\n",
              "      <th>Calvin and Hobbes</th>\n",
              "      <td>4.661406</td>\n",
              "      <td>1394</td>\n",
              "    </tr>\n",
              "    <tr>\n",
              "      <th>Complete Harry Potter Boxed Set</th>\n",
              "      <td>4.659530</td>\n",
              "      <td>1915</td>\n",
              "    </tr>\n",
              "    <tr>\n",
              "      <th>The Essential Calvin and Hobbes: A Calvin and Hobbes Treasury</th>\n",
              "      <td>4.652522</td>\n",
              "      <td>1249</td>\n",
              "    </tr>\n",
              "    <tr>\n",
              "      <th>Queen of Shadows</th>\n",
              "      <td>4.564007</td>\n",
              "      <td>1078</td>\n",
              "    </tr>\n",
              "    <tr>\n",
              "      <th>The Way of Kings</th>\n",
              "      <td>4.545556</td>\n",
              "      <td>1789</td>\n",
              "    </tr>\n",
              "    <tr>\n",
              "      <th>Harry Potter and the Deathly Hallows</th>\n",
              "      <td>4.525941</td>\n",
              "      <td>15304</td>\n",
              "    </tr>\n",
              "    <tr>\n",
              "      <th>The Hobbit and The Lord of the Rings</th>\n",
              "      <td>4.518571</td>\n",
              "      <td>1400</td>\n",
              "    </tr>\n",
              "    <tr>\n",
              "      <th>The Name of the Wind</th>\n",
              "      <td>4.499747</td>\n",
              "      <td>3948</td>\n",
              "    </tr>\n",
              "    <tr>\n",
              "      <th>Heir of Fire</th>\n",
              "      <td>4.484919</td>\n",
              "      <td>1293</td>\n",
              "    </tr>\n",
              "  </tbody>\n",
              "</table>\n",
              "</div>"
            ],
            "text/plain": [
              "                                                      rating  rating_counts\n",
              "original_title                                                             \n",
              "Words of Radiance                                   4.702840           1373\n",
              "Calvin and Hobbes                                   4.661406           1394\n",
              "Complete Harry Potter Boxed Set                     4.659530           1915\n",
              "The Essential Calvin and Hobbes: A Calvin and H...  4.652522           1249\n",
              "Queen of Shadows                                    4.564007           1078\n",
              "The Way of Kings                                    4.545556           1789\n",
              "Harry Potter and the Deathly Hallows                4.525941          15304\n",
              "The Hobbit and The Lord of the Rings                4.518571           1400\n",
              "The Name of the Wind                                4.499747           3948\n",
              "Heir of Fire                                        4.484919           1293"
            ]
          },
          "metadata": {
            "tags": []
          },
          "execution_count": 2
        }
      ]
    },
    {
      "cell_type": "code",
      "metadata": {
        "colab_type": "code",
        "id": "F2lUjdE3eIPJ",
        "outputId": "38914b5b-b9c4-48b7-c33a-c9af8696851b",
        "colab": {
          "base_uri": "https://localhost:8080/",
          "height": 136
        }
      },
      "source": [
        "user_book_rating = book_ratings.pivot_table(index='user_id', columns=['original_title'], values='rating')\n",
        "hunger_games_ratings = user_book_rating['The Hunger Games']\n",
        "\n",
        "hunger_games_ratings.head()"
      ],
      "execution_count": 3,
      "outputs": [
        {
          "output_type": "execute_result",
          "data": {
            "text/plain": [
              "user_id\n",
              "1   NaN\n",
              "2   NaN\n",
              "3   NaN\n",
              "4   NaN\n",
              "5   NaN\n",
              "Name: The Hunger Games, dtype: float64"
            ]
          },
          "metadata": {
            "tags": []
          },
          "execution_count": 3
        }
      ]
    },
    {
      "cell_type": "code",
      "metadata": {
        "id": "jGj0YXG6lB5X",
        "colab_type": "code",
        "outputId": "d274eda7-efb0-4ed5-e03f-53c62610f63a",
        "colab": {
          "base_uri": "https://localhost:8080/",
          "height": 235
        }
      },
      "source": [
        "books_like_hunger_games = user_book_rating.corrwith(hunger_games_ratings)\n",
        "corr_heading = pd.DataFrame(books_like_hunger_games, columns=['Correlation'])\n",
        "corr_heading.dropna(inplace=True)\n",
        "\n",
        "corr_heading.head()"
      ],
      "execution_count": 4,
      "outputs": [
        {
          "output_type": "execute_result",
          "data": {
            "text/html": [
              "<div>\n",
              "<style scoped>\n",
              "    .dataframe tbody tr th:only-of-type {\n",
              "        vertical-align: middle;\n",
              "    }\n",
              "\n",
              "    .dataframe tbody tr th {\n",
              "        vertical-align: top;\n",
              "    }\n",
              "\n",
              "    .dataframe thead th {\n",
              "        text-align: right;\n",
              "    }\n",
              "</style>\n",
              "<table border=\"1\" class=\"dataframe\">\n",
              "  <thead>\n",
              "    <tr style=\"text-align: right;\">\n",
              "      <th></th>\n",
              "      <th>Correlation</th>\n",
              "    </tr>\n",
              "    <tr>\n",
              "      <th>original_title</th>\n",
              "      <th></th>\n",
              "    </tr>\n",
              "  </thead>\n",
              "  <tbody>\n",
              "    <tr>\n",
              "      <th></th>\n",
              "      <td>0.197635</td>\n",
              "    </tr>\n",
              "    <tr>\n",
              "      <th>A Monster Calls</th>\n",
              "      <td>0.103923</td>\n",
              "    </tr>\n",
              "    <tr>\n",
              "      <th>Animal Farm &amp; 1984</th>\n",
              "      <td>0.036472</td>\n",
              "    </tr>\n",
              "    <tr>\n",
              "      <th>Burned (Burned, #1)</th>\n",
              "      <td>0.195531</td>\n",
              "    </tr>\n",
              "    <tr>\n",
              "      <th>Call the midwife : a true story of the East End in the 1950s</th>\n",
              "      <td>0.115430</td>\n",
              "    </tr>\n",
              "  </tbody>\n",
              "</table>\n",
              "</div>"
            ],
            "text/plain": [
              "                                                    Correlation\n",
              "original_title                                                 \n",
              "                                                       0.197635\n",
              " A Monster Calls                                       0.103923\n",
              " Animal Farm & 1984                                    0.036472\n",
              " Burned (Burned, #1)                                   0.195531\n",
              " Call the midwife : a true story of the East En...     0.115430"
            ]
          },
          "metadata": {
            "tags": []
          },
          "execution_count": 4
        }
      ]
    },
    {
      "cell_type": "code",
      "metadata": {
        "id": "_sZZjjSsT_Lh",
        "colab_type": "code",
        "outputId": "3c5f0bc1-7ed5-4eed-c447-114be37dcc7e",
        "colab": {
          "base_uri": "https://localhost:8080/",
          "height": 390
        }
      },
      "source": [
        "hunger_games_ratings = corr_heading.merge(ratings_mean_count['rating_counts'], on='original_title')\n",
        "recommended_books = hunger_games_ratings[hunger_games_ratings['rating_counts']>1000].sort_values('Correlation', ascending=False)\n",
        "\n",
        "recommended_books.head(10)"
      ],
      "execution_count": 5,
      "outputs": [
        {
          "output_type": "execute_result",
          "data": {
            "text/html": [
              "<div>\n",
              "<style scoped>\n",
              "    .dataframe tbody tr th:only-of-type {\n",
              "        vertical-align: middle;\n",
              "    }\n",
              "\n",
              "    .dataframe tbody tr th {\n",
              "        vertical-align: top;\n",
              "    }\n",
              "\n",
              "    .dataframe thead th {\n",
              "        text-align: right;\n",
              "    }\n",
              "</style>\n",
              "<table border=\"1\" class=\"dataframe\">\n",
              "  <thead>\n",
              "    <tr style=\"text-align: right;\">\n",
              "      <th></th>\n",
              "      <th>Correlation</th>\n",
              "      <th>rating_counts</th>\n",
              "    </tr>\n",
              "    <tr>\n",
              "      <th>original_title</th>\n",
              "      <th></th>\n",
              "      <th></th>\n",
              "    </tr>\n",
              "  </thead>\n",
              "  <tbody>\n",
              "    <tr>\n",
              "      <th>The Hunger Games</th>\n",
              "      <td>1.000000</td>\n",
              "      <td>22806</td>\n",
              "    </tr>\n",
              "    <tr>\n",
              "      <th>The Hunger Games Box Set</th>\n",
              "      <td>0.684692</td>\n",
              "      <td>1144</td>\n",
              "    </tr>\n",
              "    <tr>\n",
              "      <th>Catching Fire</th>\n",
              "      <td>0.669657</td>\n",
              "      <td>16549</td>\n",
              "    </tr>\n",
              "    <tr>\n",
              "      <th>Mockingjay</th>\n",
              "      <td>0.533155</td>\n",
              "      <td>15953</td>\n",
              "    </tr>\n",
              "    <tr>\n",
              "      <th>Divergent</th>\n",
              "      <td>0.371507</td>\n",
              "      <td>11780</td>\n",
              "    </tr>\n",
              "    <tr>\n",
              "      <th>Moon Called</th>\n",
              "      <td>0.356674</td>\n",
              "      <td>1170</td>\n",
              "    </tr>\n",
              "    <tr>\n",
              "      <th>Twilight</th>\n",
              "      <td>0.330199</td>\n",
              "      <td>17657</td>\n",
              "    </tr>\n",
              "    <tr>\n",
              "      <th>Song of Susannah</th>\n",
              "      <td>0.318022</td>\n",
              "      <td>1572</td>\n",
              "    </tr>\n",
              "    <tr>\n",
              "      <th>The Amityville Horror</th>\n",
              "      <td>0.309538</td>\n",
              "      <td>1066</td>\n",
              "    </tr>\n",
              "    <tr>\n",
              "      <th>Greg Heffley's Journal</th>\n",
              "      <td>0.304739</td>\n",
              "      <td>1150</td>\n",
              "    </tr>\n",
              "  </tbody>\n",
              "</table>\n",
              "</div>"
            ],
            "text/plain": [
              "                          Correlation  rating_counts\n",
              "original_title                                      \n",
              "The Hunger Games             1.000000          22806\n",
              "The Hunger Games Box Set     0.684692           1144\n",
              "Catching Fire                0.669657          16549\n",
              "Mockingjay                   0.533155          15953\n",
              "Divergent                    0.371507          11780\n",
              "Moon Called                  0.356674           1170\n",
              "Twilight                     0.330199          17657\n",
              "Song of Susannah             0.318022           1572\n",
              "The Amityville Horror        0.309538           1066\n",
              "Greg Heffley's Journal       0.304739           1150"
            ]
          },
          "metadata": {
            "tags": []
          },
          "execution_count": 5
        }
      ]
    }
  ]
}