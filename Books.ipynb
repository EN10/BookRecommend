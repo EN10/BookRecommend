{
  "nbformat": 4,
  "nbformat_minor": 0,
  "metadata": {
    "colab": {
      "name": "Books.ipynb",
      "provenance": [],
      "machine_shape": "hm"
    },
    "kernelspec": {
      "name": "python3",
      "display_name": "Python 3"
    },
    "accelerator": "GPU"
  },
  "cells": [
    {
      "cell_type": "markdown",
      "metadata": {
        "id": "KAG4IxjEaoM1",
        "colab_type": "text"
      },
      "source": [
        "Example: https://stackabuse.com/creating-a-simple-recommender-system-in-python-using-pandas\n",
        "\n",
        "Dataset: https://github.com/zygmuntz/goodbooks-10k\n",
        "\n",
        "https://www.goodreads.com/api"
      ]
    },
    {
      "cell_type": "code",
      "metadata": {
        "id": "jjMTReOFWOc_",
        "colab_type": "code",
        "colab": {}
      },
      "source": [
        "import pandas as pd\n",
        "\n",
        "ratings_data = pd.read_csv(\"https://github.com/zygmuntz/goodbooks-10k/raw/master/ratings.csv\")\n",
        "books_data = pd.read_csv(\"https://github.com/zygmuntz/goodbooks-10k/raw/master/books.csv\")\n",
        "book_ratings = pd.merge(ratings_data, books_data[['book_id','original_title']], on='book_id')"
      ],
      "execution_count": 0,
      "outputs": []
    },
    {
      "cell_type": "code",
      "metadata": {
        "id": "1Ytka8VP6Fo7",
        "colab_type": "code",
        "colab": {}
      },
      "source": [
        ""
      ],
      "execution_count": 0,
      "outputs": []
    },
    {
      "cell_type": "code",
      "metadata": {
        "id": "WvVh-0FBh82L",
        "colab_type": "code",
        "colab": {}
      },
      "source": [
        "#books_data.head()\n",
        "#book_ratings.head()\n",
        "#book_ratings[book_ratings.book_id == 1]\n",
        "#book_ratings[book_ratings.original_title == 'The Hunger Games']"
      ],
      "execution_count": 0,
      "outputs": []
    },
    {
      "cell_type": "code",
      "metadata": {
        "id": "vDvqypw0dCde",
        "colab_type": "code",
        "colab": {}
      },
      "source": [
        "ratings_mean_count = pd.DataFrame(book_ratings.groupby('book_id')['rating'].mean())\n",
        "ratings_mean_count['rating_counts'] = pd.DataFrame(book_ratings.groupby('book_id')['rating'].count())\n",
        "user_book_rating = book_ratings.pivot_table(index='user_id', columns=['original_title'], values='rating')"
      ],
      "execution_count": 0,
      "outputs": []
    },
    {
      "cell_type": "code",
      "metadata": {
        "id": "zCZiFPu9rhGV",
        "colab_type": "code",
        "colab": {}
      },
      "source": [
        "#ratings_mean_count.head()\n",
        "#user_book_rating.head()"
      ],
      "execution_count": 0,
      "outputs": []
    },
    {
      "cell_type": "code",
      "metadata": {
        "colab_type": "code",
        "id": "F2lUjdE3eIPJ",
        "colab": {}
      },
      "source": [
        "hunger_games_ratings = user_book_rating['The Hunger Games']\n",
        "books_like_hunger_games = user_book_rating.corrwith(hunger_games_ratings)"
      ],
      "execution_count": 0,
      "outputs": []
    },
    {
      "cell_type": "code",
      "metadata": {
        "id": "r_r1ls_jel8y",
        "colab_type": "code",
        "colab": {}
      },
      "source": [
        "#hunger_games_ratings.head()\n",
        "#books_like_hunger_games.head()"
      ],
      "execution_count": 0,
      "outputs": []
    },
    {
      "cell_type": "code",
      "metadata": {
        "id": "jGj0YXG6lB5X",
        "colab_type": "code",
        "outputId": "c680607d-7637-4c1e-f78c-cfa51b14321a",
        "colab": {
          "base_uri": "https://localhost:8080/",
          "height": 359
        }
      },
      "source": [
        "corr_hunger_games = pd.DataFrame(books_like_hunger_games, columns=['Correlation'])\n",
        "corr_hunger_games.dropna(inplace=True)\n",
        "corr_hunger_games = corr_hunger_games.merge(books_data[['book_id','original_title']], on='original_title')\n",
        "corr_hunger_games = corr_hunger_games.merge(ratings_mean_count['rating_counts'], on='book_id')\n",
        "corr_hunger_games[corr_hunger_games['rating_counts']>1000].sort_values('Correlation', ascending=False).head(10)"
      ],
      "execution_count": 11,
      "outputs": [
        {
          "output_type": "execute_result",
          "data": {
            "text/html": [
              "<div>\n",
              "<style scoped>\n",
              "    .dataframe tbody tr th:only-of-type {\n",
              "        vertical-align: middle;\n",
              "    }\n",
              "\n",
              "    .dataframe tbody tr th {\n",
              "        vertical-align: top;\n",
              "    }\n",
              "\n",
              "    .dataframe thead th {\n",
              "        text-align: right;\n",
              "    }\n",
              "</style>\n",
              "<table border=\"1\" class=\"dataframe\">\n",
              "  <thead>\n",
              "    <tr style=\"text-align: right;\">\n",
              "      <th></th>\n",
              "      <th>original_title</th>\n",
              "      <th>Correlation</th>\n",
              "      <th>book_id</th>\n",
              "      <th>rating_counts</th>\n",
              "    </tr>\n",
              "  </thead>\n",
              "  <tbody>\n",
              "    <tr>\n",
              "      <th>6910</th>\n",
              "      <td>The Hunger Games</td>\n",
              "      <td>1.000000</td>\n",
              "      <td>1</td>\n",
              "      <td>22806</td>\n",
              "    </tr>\n",
              "    <tr>\n",
              "      <th>6911</th>\n",
              "      <td>The Hunger Games Box Set</td>\n",
              "      <td>0.684692</td>\n",
              "      <td>507</td>\n",
              "      <td>1144</td>\n",
              "    </tr>\n",
              "    <tr>\n",
              "      <th>1252</th>\n",
              "      <td>Catching Fire</td>\n",
              "      <td>0.669657</td>\n",
              "      <td>17</td>\n",
              "      <td>16549</td>\n",
              "    </tr>\n",
              "    <tr>\n",
              "      <th>4073</th>\n",
              "      <td>Mockingjay</td>\n",
              "      <td>0.533155</td>\n",
              "      <td>20</td>\n",
              "      <td>15953</td>\n",
              "    </tr>\n",
              "    <tr>\n",
              "      <th>1837</th>\n",
              "      <td>Divergent</td>\n",
              "      <td>0.371507</td>\n",
              "      <td>12</td>\n",
              "      <td>11780</td>\n",
              "    </tr>\n",
              "    <tr>\n",
              "      <th>4094</th>\n",
              "      <td>Moon Called</td>\n",
              "      <td>0.356674</td>\n",
              "      <td>980</td>\n",
              "      <td>1170</td>\n",
              "    </tr>\n",
              "    <tr>\n",
              "      <th>8620</th>\n",
              "      <td>Twilight</td>\n",
              "      <td>0.330199</td>\n",
              "      <td>3</td>\n",
              "      <td>16931</td>\n",
              "    </tr>\n",
              "    <tr>\n",
              "      <th>5531</th>\n",
              "      <td>Song of Susannah</td>\n",
              "      <td>0.318022</td>\n",
              "      <td>1053</td>\n",
              "      <td>1572</td>\n",
              "    </tr>\n",
              "    <tr>\n",
              "      <th>5940</th>\n",
              "      <td>The Amityville Horror</td>\n",
              "      <td>0.309538</td>\n",
              "      <td>1132</td>\n",
              "      <td>1066</td>\n",
              "    </tr>\n",
              "    <tr>\n",
              "      <th>2706</th>\n",
              "      <td>Greg Heffley's Journal</td>\n",
              "      <td>0.304739</td>\n",
              "      <td>392</td>\n",
              "      <td>1150</td>\n",
              "    </tr>\n",
              "  </tbody>\n",
              "</table>\n",
              "</div>"
            ],
            "text/plain": [
              "                original_title  Correlation  book_id  rating_counts\n",
              "6910          The Hunger Games     1.000000        1          22806\n",
              "6911  The Hunger Games Box Set     0.684692      507           1144\n",
              "1252             Catching Fire     0.669657       17          16549\n",
              "4073                Mockingjay     0.533155       20          15953\n",
              "1837                 Divergent     0.371507       12          11780\n",
              "4094               Moon Called     0.356674      980           1170\n",
              "8620                  Twilight     0.330199        3          16931\n",
              "5531          Song of Susannah     0.318022     1053           1572\n",
              "5940     The Amityville Horror     0.309538     1132           1066\n",
              "2706    Greg Heffley's Journal     0.304739      392           1150"
            ]
          },
          "metadata": {
            "tags": []
          },
          "execution_count": 11
        }
      ]
    }
  ]
}